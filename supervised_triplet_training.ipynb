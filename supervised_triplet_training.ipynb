{
  "cells": [
    {
      "cell_type": "code",
      "source": [
        "# ==============================================================================\n",
        "# Supervised Fine-Tuning Notebook\n",
        "# ==============================================================================\n",
        "# This notebook is designed to be run step-by-step in an environment like\n",
        "# Google Colab or a local Jupyter notebook.\n",
        "\n",
        "# %%\n",
        "# CELL 1: Install Dependencies\n",
        "# Run this cell first to make sure all necessary libraries are installed.\n",
        "# ==============================================================================\n",
        "!pip install sentence-transformers pandas pyarrow torch orjson tqdm scikit-learn"
      ],
      "metadata": {
        "id": "C6BbxMuRu10l"
      },
      "execution_count": 1,
      "outputs": []
    },
    {
      "cell_type": "code",
      "source": [
        "# %%\n",
        "# CELL 2: Imports and Configuration\n",
        "# This cell imports all required modules and sets up the main configuration\n",
        "# variables for the training run.\n",
        "# ==============================================================================\n",
        "import pandas as pd\n",
        "import polars as pl\n",
        "import orjson\n",
        "from sentence_transformers import SentenceTransformer, InputExample, losses\n",
        "from sentence_transformers.evaluation import TripletEvaluator\n",
        "from torch.utils.data import DataLoader\n",
        "from tqdm.notebook import tqdm\n",
        "import os\n",
        "import shutil\n",
        "import zipfile\n",
        "import torch\n",
        "from sklearn.model_selection import train_test_split\n",
        "\n"
      ],
      "metadata": {
        "colab": {
          "base_uri": "https://localhost:8080/"
        },
        "id": "hQ2Vu4y62mOC",
        "outputId": "64008470-1b84-4b59-a98e-ded8ce5acadb"
      },
      "execution_count": 10,
      "outputs": [
        {
          "output_type": "stream",
          "name": "stdout",
          "text": [
            "Configuration set. Ready for the next step.\n"
          ]
        }
      ]
    },
    {
      "cell_type": "code",
      "source": [
        "# --- Configuration ---\n",
        "NUM_EPOCHS = 1\n",
        "BATCH_SIZE = 16\n",
        "LEARNING_RATE = 2e-5\n",
        "OUTPUT_PATH = './mtg_supervised'\n",
        "BASE_MODEL_ZIP_PATH = './gte-mtg-base.zip'\n",
        "BASE_MODEL_EXTRACT_PATH = './gte-mtg-base'\n",
        "TRIPLET_CSV_PATH = './generated_training_triplets.csv'\n",
        "CARD_DATA_PARQUET_PATH = './mtg_data.parquet'\n",
        "\n",
        "print(\"Configuration set. Ready for the next step.\")"
      ],
      "metadata": {
        "colab": {
          "base_uri": "https://localhost:8080/"
        },
        "id": "BlUIhk3l91bU",
        "outputId": "13e3a084-83f2-4b8b-d97a-32f092935af8"
      },
      "execution_count": 25,
      "outputs": [
        {
          "output_type": "stream",
          "name": "stdout",
          "text": [
            "Configuration set. Ready for the next step.\n"
          ]
        }
      ]
    },
    {
      "cell_type": "code",
      "source": [
        "# %%\n",
        "# CELL 3: Unzip Base Model\n",
        "# This cell checks for your zipped base model and unzips it if necessary.\n",
        "# In Colab, you would upload 'gte-mtg-base.zip' before running this.\n",
        "# ==============================================================================\n",
        "if os.path.exists(BASE_MODEL_ZIP_PATH) and not os.path.exists(BASE_MODEL_EXTRACT_PATH):\n",
        "    print(f\"Found '{BASE_MODEL_ZIP_PATH}'. Unzipping...\")\n",
        "    with zipfile.ZipFile(BASE_MODEL_ZIP_PATH, 'r') as zip_ref:\n",
        "        zip_ref.extractall('./')\n",
        "    print(f\"Successfully unzipped model to '{BASE_MODEL_EXTRACT_PATH}'\")\n",
        "elif os.path.exists(BASE_MODEL_EXTRACT_PATH):\n",
        "    print(f\"Base model directory '{BASE_MODEL_EXTRACT_PATH}' already exists. Skipping unzip.\")\n",
        "else:\n",
        "    print(f\"ERROR: Base model not found at '{BASE_MODEL_EXTRACT_PATH}' or as a zip file.\")\n",
        "    # In a notebook, we'd stop here.\n",
        "    # exit()"
      ],
      "metadata": {
        "colab": {
          "base_uri": "https://localhost:8080/"
        },
        "id": "95uoSH3W4pJ3",
        "outputId": "476d92fe-2c7a-4fa2-b4eb-ce7e6af939e5"
      },
      "execution_count": 5,
      "outputs": [
        {
          "output_type": "stream",
          "name": "stdout",
          "text": [
            "Base model directory './gte-mtg-base' already exists. Skipping unzip.\n"
          ]
        }
      ]
    },
    {
      "cell_type": "code",
      "source": [
        "# %%\n",
        "# CELL 4: Load Data Files\n",
        "# This cell loads your training triplets and the full card data from local files.\n",
        "# In Colab, you would upload these files before running this cell.\n",
        "# ==============================================================================\n",
        "print(\"\\nLoading data files from local paths...\")\n",
        "try:\n",
        "    df_triplets = pd.read_csv(TRIPLET_CSV_PATH)\n",
        "    df_full_data = pl.read_parquet(CARD_DATA_PARQUET_PATH)\n",
        "    print(\"All data loaded successfully.\")\n",
        "    print(f\"Loaded {len(df_triplets)} triplets.\")\n",
        "    print(f\"Loaded {len(df_full_data)} cards.\")\n",
        "except FileNotFoundError as e:\n",
        "    print(f\"Error: Could not find a required data file. {e}\")\n",
        "    print(\"Please ensure 'generated_training_triplets.csv' and 'mtg_data.parquet' are in the same directory.\")\n",
        "except Exception as e:\n",
        "    print(f\"Error reading data files: {e}\")"
      ],
      "metadata": {
        "colab": {
          "base_uri": "https://localhost:8080/"
        },
        "id": "TqYoFv8n41Ux",
        "outputId": "dfc5b61c-9d56-4237-e41f-603fde5be4d1"
      },
      "execution_count": 7,
      "outputs": [
        {
          "output_type": "stream",
          "name": "stdout",
          "text": [
            "\n",
            "Loading data files from local paths...\n",
            "All data loaded successfully.\n",
            "Loaded 100 triplets.\n",
            "Loaded 32722 cards.\n"
          ]
        }
      ]
    },
    {
      "cell_type": "code",
      "source": [
        "# %%\n",
        "# CELL 5: Prepare Data Structures\n",
        "# This cell builds the lookup map that converts card names to their full JSON representation.\n",
        "# ==============================================================================\n",
        "print(\"\\nBuilding card name to JSON lookup map...\")\n",
        "card_name_to_json = {}\n",
        "for row in df_full_data.iter_rows(named=True):\n",
        "    name = row.get(\"name\")\n",
        "    if name:\n",
        "        row_dict = {k: v for k, v in row.items() if v is not None and k != \"scryfallId\"}\n",
        "        row_str = orjson.dumps(row_dict, option=orjson.OPT_INDENT_2).decode(\"utf-8\")\n",
        "        card_name_to_json[name] = row_str\n",
        "print(f\"Created lookup map with {len(card_name_to_json)} entries.\")"
      ],
      "metadata": {
        "colab": {
          "base_uri": "https://localhost:8080/"
        },
        "id": "WNk6zpk-4uwu",
        "outputId": "2bec7d66-f571-4573-8c3c-2e39d244180f"
      },
      "execution_count": 8,
      "outputs": [
        {
          "output_type": "stream",
          "name": "stdout",
          "text": [
            "\n",
            "Building card name to JSON lookup map...\n",
            "Created lookup map with 31879 entries.\n"
          ]
        }
      ]
    },
    {
      "cell_type": "code",
      "source": [
        "# %%\n",
        "# CELL 6: Construct Training & Evaluation Examples\n",
        "# This cell loads the base model, constructs the rich training examples using the\n",
        "# lookup map, and splits them into training and development sets.\n",
        "# ==============================================================================\n",
        "device = \"cuda:0\" if torch.cuda.is_available() else \"cpu\"\n",
        "print(f\"\\nUsing device: {device}\")\n",
        "print(f\"Loading base model from '{BASE_MODEL_EXTRACT_PATH}'...\")\n",
        "model = SentenceTransformer(BASE_MODEL_EXTRACT_PATH, device=device)\n",
        "\n",
        "print(\"\\nConstructing training examples with full JSON...\")\n",
        "all_examples = []\n",
        "for index, row in tqdm(df_triplets.iterrows(), total=df_triplets.shape[0], desc=\"Building Examples\"):\n",
        "    try:\n",
        "        anchor_name = row['anchor']\n",
        "        positive_name = row['positive']\n",
        "        negative_name = row['negative']\n",
        "        anchor_text = anchor_name if anchor_name not in card_name_to_json else card_name_to_json[anchor_name]\n",
        "        positive_text = card_name_to_json[positive_name]\n",
        "        negative_text = card_name_to_json[negative_name]\n",
        "        all_examples.append(InputExample(texts=[anchor_text, positive_text, negative_name]))\n",
        "    except KeyError as e:\n",
        "        print(f\"Warning: Skipping row {index} due to card not found in lookup map: {e}\")\n",
        "\n",
        "print(f\"Successfully created {len(all_examples)} total examples.\")\n",
        "\n",
        "# Split data into training and evaluation sets\n",
        "train_examples, dev_examples = train_test_split(all_examples, test_size=0.1, random_state=42)\n",
        "print(f\"Split data into {len(train_examples)} training examples and {len(dev_examples)} evaluation examples.\")\n",
        "\n",
        "\n",
        "\n"
      ],
      "outputs": [
        {
          "output_type": "stream",
          "name": "stderr",
          "text": [
            "WARNING:sentence_transformers.SentenceTransformer:No sentence-transformers model found with name ./gte-mtg-base. Creating a new one with mean pooling.\n"
          ]
        },
        {
          "output_type": "stream",
          "name": "stdout",
          "text": [
            "\n",
            "Using device: cuda:0\n",
            "Loading base model from './gte-mtg-base'...\n",
            "\n",
            "Constructing training examples with full JSON...\n"
          ]
        },
        {
          "output_type": "display_data",
          "data": {
            "text/plain": [
              "Building Examples:   0%|          | 0/100 [00:00<?, ?it/s]"
            ],
            "application/vnd.jupyter.widget-view+json": {
              "version_major": 2,
              "version_minor": 0,
              "model_id": "a6cf04c97c344a78aaf10ddb59566ba0"
            }
          },
          "metadata": {}
        },
        {
          "output_type": "stream",
          "name": "stdout",
          "text": [
            "Successfully created 100 total examples.\n",
            "Split data into 90 training examples and 10 evaluation examples.\n"
          ]
        }
      ],
      "execution_count": 26,
      "metadata": {
        "colab": {
          "base_uri": "https://localhost:8080/",
          "height": 216,
          "referenced_widgets": [
            "a6cf04c97c344a78aaf10ddb59566ba0",
            "78b37451a9e94a8f9b2473c084570332",
            "344a52fa2724424db23377d43aeb9a24",
            "7ae434244a06408aa374ac48016f5e6c",
            "d3b9475b67bd464eabda6718bfc8823a",
            "c152f69f96f54b108394ca3263420a3a",
            "fa9a0b35a1c0450bbbe257cdfdb4872c",
            "37b66e9328334416b1d5bfae84c065a6",
            "448b968f1aa1459b9836026c5560834c",
            "c2d39f83990341f082e8fa2d8c6d95d3",
            "88abeb87382e40c5b59d38cfaaa9075b"
          ]
        },
        "id": "rQ0E7ZrYu0u1",
        "outputId": "cb850dd5-2a35-4c47-99ac-4e1eed425804"
      }
    },
    {
      "cell_type": "code",
      "source": [
        "# %%\n",
        "# CELL 7: Run the Supervised Fine-Tuning Process\n",
        "# This is the main training cell. It will fine-tune the model and save the\n",
        "# best version to the specified output path.\n",
        "# ==============================================================================\n",
        "train_loss = losses.TripletLoss(model=model)\n",
        "train_dataloader = DataLoader(train_examples, shuffle=True, batch_size=BATCH_SIZE)\n",
        "\n",
        "# Create an evaluator to get metrics during training on an unseen portion of the data.\n",
        "# This is the best way to confirm the model is learning general rules, not just memorizing.\n",
        "evaluator = TripletEvaluator.from_input_examples(dev_examples, name='mtg-dev')\n",
        "\n",
        "# Calculate logging steps to get a few logs per epoch\n",
        "# This prevents the evaluation from running too often and slowing down training.\n",
        "logging_steps = max(1, len(train_dataloader) // 4)\n",
        "print(f\"Logging & Evaluating every {logging_steps} steps.\")\n",
        "\n",
        "# Set a small, fixed number of warmup steps.\n",
        "warmup_steps = int(len(train_dataloader) * 0.1) # 10% of steps in the first epoch\n",
        "\n",
        "print(\"\\nStarting supervised fine-tuning...\")\n",
        "# The .fit() method handles the entire training loop.\n",
        "# It will periodically run the evaluator and print the accuracy.\n",
        "# Watch for the 'Mtg-dev Cosine Accuracy' to increase over time.\n",
        "model.fit(\n",
        "    train_objectives=[(train_dataloader, train_loss)],\n",
        "    epochs=NUM_EPOCHS,\n",
        "    evaluator=evaluator,\n",
        "    evaluation_steps=logging_steps,\n",
        "    output_path=OUTPUT_PATH,\n",
        "    save_best_model=True, # Save the model checkpoint with the best evaluation score\n",
        "    optimizer_params={'lr': LEARNING_RATE},\n",
        "    warmup_steps=warmup_steps\n",
        ")\n",
        "\n",
        "print(f\"\\nFine-tuning complete. The best performing model was saved to: {OUTPUT_PATH}\")\n",
        "\n",
        "\n"
      ],
      "metadata": {
        "colab": {
          "base_uri": "https://localhost:8080/",
          "height": 357,
          "referenced_widgets": [
            "13bf4056ec9240c895a20a582f6e2a51",
            "7e3c5da62b0245f5b2bbad3f09171ac6",
            "a635a2d887c14777b408c6fe436fe312",
            "c93a92c1adca4c9eb5ca7d56206d6c35",
            "1e0c54c64b50483a9b95d4fd2747d7bc",
            "be14c5c0c561404385d545c83518b4dc",
            "f367f3f8b32941f58f6165fd8fa565cd",
            "107dcac9f28248e9bb1023646a31ff04",
            "6e91b401f3ad4036a6f2ab3a026a4c71",
            "6adc60478e03473bb69968d0300a0aea",
            "5da340bd003b41dc84a59a20b62afcb7"
          ]
        },
        "id": "LC1F_KL49RFa",
        "outputId": "4d207111-30f1-4b89-8557-d63f8fc5b538"
      },
      "execution_count": 27,
      "outputs": [
        {
          "output_type": "stream",
          "name": "stdout",
          "text": [
            "Logging & Evaluating every 1 steps.\n",
            "\n",
            "Starting supervised fine-tuning...\n"
          ]
        },
        {
          "output_type": "display_data",
          "data": {
            "text/plain": [
              "Computing widget examples:   0%|          | 0/1 [00:00<?, ?example/s]"
            ],
            "application/vnd.jupyter.widget-view+json": {
              "version_major": 2,
              "version_minor": 0,
              "model_id": "13bf4056ec9240c895a20a582f6e2a51"
            }
          },
          "metadata": {}
        },
        {
          "output_type": "display_data",
          "data": {
            "text/plain": [
              "<IPython.core.display.HTML object>"
            ],
            "text/html": [
              "\n",
              "    <div>\n",
              "      \n",
              "      <progress value='6' max='6' style='width:300px; height:20px; vertical-align: middle;'></progress>\n",
              "      [6/6 00:08, Epoch 1/1]\n",
              "    </div>\n",
              "    <table border=\"1\" class=\"dataframe\">\n",
              "  <thead>\n",
              " <tr style=\"text-align: left;\">\n",
              "      <th>Step</th>\n",
              "      <th>Training Loss</th>\n",
              "      <th>Validation Loss</th>\n",
              "      <th>Mtg-dev Cosine Accuracy</th>\n",
              "    </tr>\n",
              "  </thead>\n",
              "  <tbody>\n",
              "    <tr>\n",
              "      <td>1</td>\n",
              "      <td>No log</td>\n",
              "      <td>No log</td>\n",
              "      <td>0.300000</td>\n",
              "    </tr>\n",
              "    <tr>\n",
              "      <td>2</td>\n",
              "      <td>No log</td>\n",
              "      <td>No log</td>\n",
              "      <td>0.300000</td>\n",
              "    </tr>\n",
              "    <tr>\n",
              "      <td>3</td>\n",
              "      <td>No log</td>\n",
              "      <td>No log</td>\n",
              "      <td>0.800000</td>\n",
              "    </tr>\n",
              "    <tr>\n",
              "      <td>4</td>\n",
              "      <td>No log</td>\n",
              "      <td>No log</td>\n",
              "      <td>0.900000</td>\n",
              "    </tr>\n",
              "    <tr>\n",
              "      <td>5</td>\n",
              "      <td>No log</td>\n",
              "      <td>No log</td>\n",
              "      <td>1.000000</td>\n",
              "    </tr>\n",
              "    <tr>\n",
              "      <td>6</td>\n",
              "      <td>No log</td>\n",
              "      <td>No log</td>\n",
              "      <td>1.000000</td>\n",
              "    </tr>\n",
              "  </tbody>\n",
              "</table><p>"
            ]
          },
          "metadata": {}
        },
        {
          "output_type": "stream",
          "name": "stdout",
          "text": [
            "\n",
            "Fine-tuning complete. The best performing model was saved to: ./mtg_supervised\n"
          ]
        }
      ]
    },
    {
      "cell_type": "code",
      "source": [
        "# %%\n",
        "# CELL 8: Package and Download the Final Model\n",
        "# This cell zips your final, trained model for easy download and distribution.\n",
        "# ==============================================================================\n",
        "print(\"\\nZipping the final model for distribution...\")\n",
        "if os.path.exists(f\"{OUTPUT_PATH}.zip\"):\n",
        "    os.remove(f\"{OUTPUT_PATH}.zip\")\n",
        "shutil.make_archive(OUTPUT_PATH, 'zip', OUTPUT_PATH)\n",
        "print(f\"Successfully created '{OUTPUT_PATH}.zip'\")\n",
        "\n",
        "# In Colab, you would uncomment the following lines to download the file\n",
        "# from google.colab import files\n",
        "# files.download(f\"{OUTPUT_PATH}.zip\")"
      ],
      "metadata": {
        "id": "R-hQUPHvNhOH"
      },
      "execution_count": null,
      "outputs": []
    },
    {
      "cell_type": "code",
      "source": [],
      "metadata": {
        "id": "fYwdttYHSy1x"
      },
      "execution_count": null,
      "outputs": []
    },
    {
      "cell_type": "code",
      "source": [],
      "metadata": {
        "id": "dA0KH-GLSy3y"
      },
      "execution_count": null,
      "outputs": []
    }
  ],
  "metadata": {
    "colab": {
      "provenance": [],
      "machine_shape": "hm",
      "gpuType": "L4"
    },
    "kernelspec": {
      "display_name": "Python 3",
      "name": "python3"
    },
    "accelerator": "GPU",
    "widgets": {
      "application/vnd.jupyter.widget-state+json": {
        "a6cf04c97c344a78aaf10ddb59566ba0": {
          "model_module": "@jupyter-widgets/controls",
          "model_name": "HBoxModel",
          "model_module_version": "1.5.0",
          "state": {
            "_dom_classes": [],
            "_model_module": "@jupyter-widgets/controls",
            "_model_module_version": "1.5.0",
            "_model_name": "HBoxModel",
            "_view_count": null,
            "_view_module": "@jupyter-widgets/controls",
            "_view_module_version": "1.5.0",
            "_view_name": "HBoxView",
            "box_style": "",
            "children": [
              "IPY_MODEL_78b37451a9e94a8f9b2473c084570332",
              "IPY_MODEL_344a52fa2724424db23377d43aeb9a24",
              "IPY_MODEL_7ae434244a06408aa374ac48016f5e6c"
            ],
            "layout": "IPY_MODEL_d3b9475b67bd464eabda6718bfc8823a"
          }
        },
        "78b37451a9e94a8f9b2473c084570332": {
          "model_module": "@jupyter-widgets/controls",
          "model_name": "HTMLModel",
          "model_module_version": "1.5.0",
          "state": {
            "_dom_classes": [],
            "_model_module": "@jupyter-widgets/controls",
            "_model_module_version": "1.5.0",
            "_model_name": "HTMLModel",
            "_view_count": null,
            "_view_module": "@jupyter-widgets/controls",
            "_view_module_version": "1.5.0",
            "_view_name": "HTMLView",
            "description": "",
            "description_tooltip": null,
            "layout": "IPY_MODEL_c152f69f96f54b108394ca3263420a3a",
            "placeholder": "​",
            "style": "IPY_MODEL_fa9a0b35a1c0450bbbe257cdfdb4872c",
            "value": "Building Examples: 100%"
          }
        },
        "344a52fa2724424db23377d43aeb9a24": {
          "model_module": "@jupyter-widgets/controls",
          "model_name": "FloatProgressModel",
          "model_module_version": "1.5.0",
          "state": {
            "_dom_classes": [],
            "_model_module": "@jupyter-widgets/controls",
            "_model_module_version": "1.5.0",
            "_model_name": "FloatProgressModel",
            "_view_count": null,
            "_view_module": "@jupyter-widgets/controls",
            "_view_module_version": "1.5.0",
            "_view_name": "ProgressView",
            "bar_style": "success",
            "description": "",
            "description_tooltip": null,
            "layout": "IPY_MODEL_37b66e9328334416b1d5bfae84c065a6",
            "max": 100,
            "min": 0,
            "orientation": "horizontal",
            "style": "IPY_MODEL_448b968f1aa1459b9836026c5560834c",
            "value": 100
          }
        },
        "7ae434244a06408aa374ac48016f5e6c": {
          "model_module": "@jupyter-widgets/controls",
          "model_name": "HTMLModel",
          "model_module_version": "1.5.0",
          "state": {
            "_dom_classes": [],
            "_model_module": "@jupyter-widgets/controls",
            "_model_module_version": "1.5.0",
            "_model_name": "HTMLModel",
            "_view_count": null,
            "_view_module": "@jupyter-widgets/controls",
            "_view_module_version": "1.5.0",
            "_view_name": "HTMLView",
            "description": "",
            "description_tooltip": null,
            "layout": "IPY_MODEL_c2d39f83990341f082e8fa2d8c6d95d3",
            "placeholder": "​",
            "style": "IPY_MODEL_88abeb87382e40c5b59d38cfaaa9075b",
            "value": " 100/100 [00:00&lt;00:00, 6090.18it/s]"
          }
        },
        "d3b9475b67bd464eabda6718bfc8823a": {
          "model_module": "@jupyter-widgets/base",
          "model_name": "LayoutModel",
          "model_module_version": "1.2.0",
          "state": {
            "_model_module": "@jupyter-widgets/base",
            "_model_module_version": "1.2.0",
            "_model_name": "LayoutModel",
            "_view_count": null,
            "_view_module": "@jupyter-widgets/base",
            "_view_module_version": "1.2.0",
            "_view_name": "LayoutView",
            "align_content": null,
            "align_items": null,
            "align_self": null,
            "border": null,
            "bottom": null,
            "display": null,
            "flex": null,
            "flex_flow": null,
            "grid_area": null,
            "grid_auto_columns": null,
            "grid_auto_flow": null,
            "grid_auto_rows": null,
            "grid_column": null,
            "grid_gap": null,
            "grid_row": null,
            "grid_template_areas": null,
            "grid_template_columns": null,
            "grid_template_rows": null,
            "height": null,
            "justify_content": null,
            "justify_items": null,
            "left": null,
            "margin": null,
            "max_height": null,
            "max_width": null,
            "min_height": null,
            "min_width": null,
            "object_fit": null,
            "object_position": null,
            "order": null,
            "overflow": null,
            "overflow_x": null,
            "overflow_y": null,
            "padding": null,
            "right": null,
            "top": null,
            "visibility": null,
            "width": null
          }
        },
        "c152f69f96f54b108394ca3263420a3a": {
          "model_module": "@jupyter-widgets/base",
          "model_name": "LayoutModel",
          "model_module_version": "1.2.0",
          "state": {
            "_model_module": "@jupyter-widgets/base",
            "_model_module_version": "1.2.0",
            "_model_name": "LayoutModel",
            "_view_count": null,
            "_view_module": "@jupyter-widgets/base",
            "_view_module_version": "1.2.0",
            "_view_name": "LayoutView",
            "align_content": null,
            "align_items": null,
            "align_self": null,
            "border": null,
            "bottom": null,
            "display": null,
            "flex": null,
            "flex_flow": null,
            "grid_area": null,
            "grid_auto_columns": null,
            "grid_auto_flow": null,
            "grid_auto_rows": null,
            "grid_column": null,
            "grid_gap": null,
            "grid_row": null,
            "grid_template_areas": null,
            "grid_template_columns": null,
            "grid_template_rows": null,
            "height": null,
            "justify_content": null,
            "justify_items": null,
            "left": null,
            "margin": null,
            "max_height": null,
            "max_width": null,
            "min_height": null,
            "min_width": null,
            "object_fit": null,
            "object_position": null,
            "order": null,
            "overflow": null,
            "overflow_x": null,
            "overflow_y": null,
            "padding": null,
            "right": null,
            "top": null,
            "visibility": null,
            "width": null
          }
        },
        "fa9a0b35a1c0450bbbe257cdfdb4872c": {
          "model_module": "@jupyter-widgets/controls",
          "model_name": "DescriptionStyleModel",
          "model_module_version": "1.5.0",
          "state": {
            "_model_module": "@jupyter-widgets/controls",
            "_model_module_version": "1.5.0",
            "_model_name": "DescriptionStyleModel",
            "_view_count": null,
            "_view_module": "@jupyter-widgets/base",
            "_view_module_version": "1.2.0",
            "_view_name": "StyleView",
            "description_width": ""
          }
        },
        "37b66e9328334416b1d5bfae84c065a6": {
          "model_module": "@jupyter-widgets/base",
          "model_name": "LayoutModel",
          "model_module_version": "1.2.0",
          "state": {
            "_model_module": "@jupyter-widgets/base",
            "_model_module_version": "1.2.0",
            "_model_name": "LayoutModel",
            "_view_count": null,
            "_view_module": "@jupyter-widgets/base",
            "_view_module_version": "1.2.0",
            "_view_name": "LayoutView",
            "align_content": null,
            "align_items": null,
            "align_self": null,
            "border": null,
            "bottom": null,
            "display": null,
            "flex": null,
            "flex_flow": null,
            "grid_area": null,
            "grid_auto_columns": null,
            "grid_auto_flow": null,
            "grid_auto_rows": null,
            "grid_column": null,
            "grid_gap": null,
            "grid_row": null,
            "grid_template_areas": null,
            "grid_template_columns": null,
            "grid_template_rows": null,
            "height": null,
            "justify_content": null,
            "justify_items": null,
            "left": null,
            "margin": null,
            "max_height": null,
            "max_width": null,
            "min_height": null,
            "min_width": null,
            "object_fit": null,
            "object_position": null,
            "order": null,
            "overflow": null,
            "overflow_x": null,
            "overflow_y": null,
            "padding": null,
            "right": null,
            "top": null,
            "visibility": null,
            "width": null
          }
        },
        "448b968f1aa1459b9836026c5560834c": {
          "model_module": "@jupyter-widgets/controls",
          "model_name": "ProgressStyleModel",
          "model_module_version": "1.5.0",
          "state": {
            "_model_module": "@jupyter-widgets/controls",
            "_model_module_version": "1.5.0",
            "_model_name": "ProgressStyleModel",
            "_view_count": null,
            "_view_module": "@jupyter-widgets/base",
            "_view_module_version": "1.2.0",
            "_view_name": "StyleView",
            "bar_color": null,
            "description_width": ""
          }
        },
        "c2d39f83990341f082e8fa2d8c6d95d3": {
          "model_module": "@jupyter-widgets/base",
          "model_name": "LayoutModel",
          "model_module_version": "1.2.0",
          "state": {
            "_model_module": "@jupyter-widgets/base",
            "_model_module_version": "1.2.0",
            "_model_name": "LayoutModel",
            "_view_count": null,
            "_view_module": "@jupyter-widgets/base",
            "_view_module_version": "1.2.0",
            "_view_name": "LayoutView",
            "align_content": null,
            "align_items": null,
            "align_self": null,
            "border": null,
            "bottom": null,
            "display": null,
            "flex": null,
            "flex_flow": null,
            "grid_area": null,
            "grid_auto_columns": null,
            "grid_auto_flow": null,
            "grid_auto_rows": null,
            "grid_column": null,
            "grid_gap": null,
            "grid_row": null,
            "grid_template_areas": null,
            "grid_template_columns": null,
            "grid_template_rows": null,
            "height": null,
            "justify_content": null,
            "justify_items": null,
            "left": null,
            "margin": null,
            "max_height": null,
            "max_width": null,
            "min_height": null,
            "min_width": null,
            "object_fit": null,
            "object_position": null,
            "order": null,
            "overflow": null,
            "overflow_x": null,
            "overflow_y": null,
            "padding": null,
            "right": null,
            "top": null,
            "visibility": null,
            "width": null
          }
        },
        "88abeb87382e40c5b59d38cfaaa9075b": {
          "model_module": "@jupyter-widgets/controls",
          "model_name": "DescriptionStyleModel",
          "model_module_version": "1.5.0",
          "state": {
            "_model_module": "@jupyter-widgets/controls",
            "_model_module_version": "1.5.0",
            "_model_name": "DescriptionStyleModel",
            "_view_count": null,
            "_view_module": "@jupyter-widgets/base",
            "_view_module_version": "1.2.0",
            "_view_name": "StyleView",
            "description_width": ""
          }
        },
        "13bf4056ec9240c895a20a582f6e2a51": {
          "model_module": "@jupyter-widgets/controls",
          "model_name": "HBoxModel",
          "model_module_version": "1.5.0",
          "state": {
            "_dom_classes": [],
            "_model_module": "@jupyter-widgets/controls",
            "_model_module_version": "1.5.0",
            "_model_name": "HBoxModel",
            "_view_count": null,
            "_view_module": "@jupyter-widgets/controls",
            "_view_module_version": "1.5.0",
            "_view_name": "HBoxView",
            "box_style": "",
            "children": [
              "IPY_MODEL_7e3c5da62b0245f5b2bbad3f09171ac6",
              "IPY_MODEL_a635a2d887c14777b408c6fe436fe312",
              "IPY_MODEL_c93a92c1adca4c9eb5ca7d56206d6c35"
            ],
            "layout": "IPY_MODEL_1e0c54c64b50483a9b95d4fd2747d7bc"
          }
        },
        "7e3c5da62b0245f5b2bbad3f09171ac6": {
          "model_module": "@jupyter-widgets/controls",
          "model_name": "HTMLModel",
          "model_module_version": "1.5.0",
          "state": {
            "_dom_classes": [],
            "_model_module": "@jupyter-widgets/controls",
            "_model_module_version": "1.5.0",
            "_model_name": "HTMLModel",
            "_view_count": null,
            "_view_module": "@jupyter-widgets/controls",
            "_view_module_version": "1.5.0",
            "_view_name": "HTMLView",
            "description": "",
            "description_tooltip": null,
            "layout": "IPY_MODEL_be14c5c0c561404385d545c83518b4dc",
            "placeholder": "​",
            "style": "IPY_MODEL_f367f3f8b32941f58f6165fd8fa565cd",
            "value": "Computing widget examples:   0%"
          }
        },
        "a635a2d887c14777b408c6fe436fe312": {
          "model_module": "@jupyter-widgets/controls",
          "model_name": "FloatProgressModel",
          "model_module_version": "1.5.0",
          "state": {
            "_dom_classes": [],
            "_model_module": "@jupyter-widgets/controls",
            "_model_module_version": "1.5.0",
            "_model_name": "FloatProgressModel",
            "_view_count": null,
            "_view_module": "@jupyter-widgets/controls",
            "_view_module_version": "1.5.0",
            "_view_name": "ProgressView",
            "bar_style": "",
            "description": "",
            "description_tooltip": null,
            "layout": "IPY_MODEL_107dcac9f28248e9bb1023646a31ff04",
            "max": 1,
            "min": 0,
            "orientation": "horizontal",
            "style": "IPY_MODEL_6e91b401f3ad4036a6f2ab3a026a4c71",
            "value": 1
          }
        },
        "c93a92c1adca4c9eb5ca7d56206d6c35": {
          "model_module": "@jupyter-widgets/controls",
          "model_name": "HTMLModel",
          "model_module_version": "1.5.0",
          "state": {
            "_dom_classes": [],
            "_model_module": "@jupyter-widgets/controls",
            "_model_module_version": "1.5.0",
            "_model_name": "HTMLModel",
            "_view_count": null,
            "_view_module": "@jupyter-widgets/controls",
            "_view_module_version": "1.5.0",
            "_view_name": "HTMLView",
            "description": "",
            "description_tooltip": null,
            "layout": "IPY_MODEL_6adc60478e03473bb69968d0300a0aea",
            "placeholder": "​",
            "style": "IPY_MODEL_5da340bd003b41dc84a59a20b62afcb7",
            "value": " 0/1 [00:00&lt;?, ?example/s]"
          }
        },
        "1e0c54c64b50483a9b95d4fd2747d7bc": {
          "model_module": "@jupyter-widgets/base",
          "model_name": "LayoutModel",
          "model_module_version": "1.2.0",
          "state": {
            "_model_module": "@jupyter-widgets/base",
            "_model_module_version": "1.2.0",
            "_model_name": "LayoutModel",
            "_view_count": null,
            "_view_module": "@jupyter-widgets/base",
            "_view_module_version": "1.2.0",
            "_view_name": "LayoutView",
            "align_content": null,
            "align_items": null,
            "align_self": null,
            "border": null,
            "bottom": null,
            "display": null,
            "flex": null,
            "flex_flow": null,
            "grid_area": null,
            "grid_auto_columns": null,
            "grid_auto_flow": null,
            "grid_auto_rows": null,
            "grid_column": null,
            "grid_gap": null,
            "grid_row": null,
            "grid_template_areas": null,
            "grid_template_columns": null,
            "grid_template_rows": null,
            "height": null,
            "justify_content": null,
            "justify_items": null,
            "left": null,
            "margin": null,
            "max_height": null,
            "max_width": null,
            "min_height": null,
            "min_width": null,
            "object_fit": null,
            "object_position": null,
            "order": null,
            "overflow": null,
            "overflow_x": null,
            "overflow_y": null,
            "padding": null,
            "right": null,
            "top": null,
            "visibility": "hidden",
            "width": null
          }
        },
        "be14c5c0c561404385d545c83518b4dc": {
          "model_module": "@jupyter-widgets/base",
          "model_name": "LayoutModel",
          "model_module_version": "1.2.0",
          "state": {
            "_model_module": "@jupyter-widgets/base",
            "_model_module_version": "1.2.0",
            "_model_name": "LayoutModel",
            "_view_count": null,
            "_view_module": "@jupyter-widgets/base",
            "_view_module_version": "1.2.0",
            "_view_name": "LayoutView",
            "align_content": null,
            "align_items": null,
            "align_self": null,
            "border": null,
            "bottom": null,
            "display": null,
            "flex": null,
            "flex_flow": null,
            "grid_area": null,
            "grid_auto_columns": null,
            "grid_auto_flow": null,
            "grid_auto_rows": null,
            "grid_column": null,
            "grid_gap": null,
            "grid_row": null,
            "grid_template_areas": null,
            "grid_template_columns": null,
            "grid_template_rows": null,
            "height": null,
            "justify_content": null,
            "justify_items": null,
            "left": null,
            "margin": null,
            "max_height": null,
            "max_width": null,
            "min_height": null,
            "min_width": null,
            "object_fit": null,
            "object_position": null,
            "order": null,
            "overflow": null,
            "overflow_x": null,
            "overflow_y": null,
            "padding": null,
            "right": null,
            "top": null,
            "visibility": null,
            "width": null
          }
        },
        "f367f3f8b32941f58f6165fd8fa565cd": {
          "model_module": "@jupyter-widgets/controls",
          "model_name": "DescriptionStyleModel",
          "model_module_version": "1.5.0",
          "state": {
            "_model_module": "@jupyter-widgets/controls",
            "_model_module_version": "1.5.0",
            "_model_name": "DescriptionStyleModel",
            "_view_count": null,
            "_view_module": "@jupyter-widgets/base",
            "_view_module_version": "1.2.0",
            "_view_name": "StyleView",
            "description_width": ""
          }
        },
        "107dcac9f28248e9bb1023646a31ff04": {
          "model_module": "@jupyter-widgets/base",
          "model_name": "LayoutModel",
          "model_module_version": "1.2.0",
          "state": {
            "_model_module": "@jupyter-widgets/base",
            "_model_module_version": "1.2.0",
            "_model_name": "LayoutModel",
            "_view_count": null,
            "_view_module": "@jupyter-widgets/base",
            "_view_module_version": "1.2.0",
            "_view_name": "LayoutView",
            "align_content": null,
            "align_items": null,
            "align_self": null,
            "border": null,
            "bottom": null,
            "display": null,
            "flex": null,
            "flex_flow": null,
            "grid_area": null,
            "grid_auto_columns": null,
            "grid_auto_flow": null,
            "grid_auto_rows": null,
            "grid_column": null,
            "grid_gap": null,
            "grid_row": null,
            "grid_template_areas": null,
            "grid_template_columns": null,
            "grid_template_rows": null,
            "height": null,
            "justify_content": null,
            "justify_items": null,
            "left": null,
            "margin": null,
            "max_height": null,
            "max_width": null,
            "min_height": null,
            "min_width": null,
            "object_fit": null,
            "object_position": null,
            "order": null,
            "overflow": null,
            "overflow_x": null,
            "overflow_y": null,
            "padding": null,
            "right": null,
            "top": null,
            "visibility": null,
            "width": null
          }
        },
        "6e91b401f3ad4036a6f2ab3a026a4c71": {
          "model_module": "@jupyter-widgets/controls",
          "model_name": "ProgressStyleModel",
          "model_module_version": "1.5.0",
          "state": {
            "_model_module": "@jupyter-widgets/controls",
            "_model_module_version": "1.5.0",
            "_model_name": "ProgressStyleModel",
            "_view_count": null,
            "_view_module": "@jupyter-widgets/base",
            "_view_module_version": "1.2.0",
            "_view_name": "StyleView",
            "bar_color": null,
            "description_width": ""
          }
        },
        "6adc60478e03473bb69968d0300a0aea": {
          "model_module": "@jupyter-widgets/base",
          "model_name": "LayoutModel",
          "model_module_version": "1.2.0",
          "state": {
            "_model_module": "@jupyter-widgets/base",
            "_model_module_version": "1.2.0",
            "_model_name": "LayoutModel",
            "_view_count": null,
            "_view_module": "@jupyter-widgets/base",
            "_view_module_version": "1.2.0",
            "_view_name": "LayoutView",
            "align_content": null,
            "align_items": null,
            "align_self": null,
            "border": null,
            "bottom": null,
            "display": null,
            "flex": null,
            "flex_flow": null,
            "grid_area": null,
            "grid_auto_columns": null,
            "grid_auto_flow": null,
            "grid_auto_rows": null,
            "grid_column": null,
            "grid_gap": null,
            "grid_row": null,
            "grid_template_areas": null,
            "grid_template_columns": null,
            "grid_template_rows": null,
            "height": null,
            "justify_content": null,
            "justify_items": null,
            "left": null,
            "margin": null,
            "max_height": null,
            "max_width": null,
            "min_height": null,
            "min_width": null,
            "object_fit": null,
            "object_position": null,
            "order": null,
            "overflow": null,
            "overflow_x": null,
            "overflow_y": null,
            "padding": null,
            "right": null,
            "top": null,
            "visibility": null,
            "width": null
          }
        },
        "5da340bd003b41dc84a59a20b62afcb7": {
          "model_module": "@jupyter-widgets/controls",
          "model_name": "DescriptionStyleModel",
          "model_module_version": "1.5.0",
          "state": {
            "_model_module": "@jupyter-widgets/controls",
            "_model_module_version": "1.5.0",
            "_model_name": "DescriptionStyleModel",
            "_view_count": null,
            "_view_module": "@jupyter-widgets/base",
            "_view_module_version": "1.2.0",
            "_view_name": "StyleView",
            "description_width": ""
          }
        }
      }
    }
  },
  "nbformat": 4,
  "nbformat_minor": 0
}